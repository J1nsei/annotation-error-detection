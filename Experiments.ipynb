{
 "cells": [
  {
   "cell_type": "code",
   "execution_count": 1,
   "id": "c512d706-5b9d-4764-b893-6d665838345c",
   "metadata": {},
   "outputs": [],
   "source": [
    "import pandas as pd\n",
    "from sklearn.preprocessing import MultiLabelBinarizer\n",
    "from skmultilearn.model_selection import IterativeStratification\n",
    "from pathlib import Path\n",
    "from typing import Tuple\n",
    "from tqdm.notebook import tqdm\n",
    "import json\n",
    "import numpy as np"
   ]
  },
  {
   "cell_type": "code",
   "execution_count": 2,
   "id": "5a07c093-14b9-4c34-aa33-d68dfc5a8744",
   "metadata": {},
   "outputs": [],
   "source": [
    "def load_dataset(\n",
    "    data_path: Path,\n",
    "    labels_file: str = 'labels.json'\n",
    ") -> Tuple[pd.DataFrame, pd.DataFrame]:\n",
    "\n",
    "    annotations_path = data_path / labels_file\n",
    "\n",
    "    with open(annotations_path, \"r\") as f:\n",
    "        targets_json = json.load(f)\n",
    "    id2label = {cat['id']:cat['name'] for cat in targets_json['categories']}\n",
    "    images_df = pd.DataFrame.from_records(targets_json[\"images\"])\n",
    "    images_df.rename(columns={\"id\": \"image_id\"}, inplace=True)\n",
    "    images_df = images_df[[\"image_id\", \"file_name\"]]\n",
    "\n",
    "    targets_df = pd.DataFrame.from_records(targets_json[\"annotations\"])\n",
    "    \n",
    "    targets_df[[\"xmin\", \"ymin\", \"w\", \"h\"]] = targets_df[\"bbox\"].tolist()\n",
    "    targets_df[\"xmax\"] = targets_df[\"xmin\"] + targets_df[\"w\"]\n",
    "    targets_df[\"ymax\"] = targets_df[\"ymin\"] + targets_df[\"h\"]\n",
    "    targets_df.reset_index(inplace=True)\n",
    "    targets_df['index'] = targets_df['id']\n",
    "    targets_df.rename(\n",
    "        columns={\"index\": \"target_id\", \"category_id\": \"label_id\"}, inplace=True\n",
    "    )\n",
    "    targets_df = targets_df[\n",
    "        [\"target_id\", \"image_id\", \"label_id\", \"xmin\", \"ymin\", \"xmax\", \"ymax\"]\n",
    "    ]\n",
    "    \n",
    "    return images_df, targets_df, id2label"
   ]
  },
  {
   "cell_type": "code",
   "execution_count": 39,
   "id": "b712e253-93ca-471c-bd69-be994a934ae3",
   "metadata": {},
   "outputs": [],
   "source": [
    "df_path = Path('./dataset')\n",
    "images_df, targets_df, id2label = load_dataset(df_path)"
   ]
  },
  {
   "cell_type": "code",
   "execution_count": 7,
   "id": "94757388-68b3-40a9-a153-da60c5aa34a2",
   "metadata": {},
   "outputs": [],
   "source": [
    "checked_labels = pd.read_pickle('checked_samples.pkl')"
   ]
  },
  {
   "cell_type": "code",
   "execution_count": 28,
   "id": "fc670686-cfca-4cb0-a560-6f43b891dfc0",
   "metadata": {},
   "outputs": [],
   "source": [
    "TP = checked_labels['TP'].sum()\n",
    "TN = checked_labels['TN'].sum()\n",
    "FP = checked_labels['FP'].sum()\n",
    "FN = checked_labels['FN'].sum()\n",
    "confusion_matrix = np.array([[TN, FP],\n",
    "                             [FN, TP]])"
   ]
  },
  {
   "cell_type": "code",
   "execution_count": 35,
   "id": "04fa6be1-b5fb-4aec-82bf-1aff1b89c522",
   "metadata": {},
   "outputs": [
    {
     "data": {
      "text/plain": [
       "(42, 7)"
      ]
     },
     "execution_count": 35,
     "metadata": {},
     "output_type": "execute_result"
    }
   ],
   "source": [
    "checked_labels.query('TP==0').shape"
   ]
  },
  {
   "cell_type": "code",
   "execution_count": 30,
   "id": "fbd4ced2-4b7d-415a-ad61-9712bc6325da",
   "metadata": {},
   "outputs": [
    {
     "data": {
      "image/png": "[encoded data removed]",
      "text/plain": [
       "<Figure size 800x600 with 2 Axes>"
      ]
     },
     "metadata": {},
     "output_type": "display_data"
    }
   ],
   "source": [
    "import matplotlib.pyplot as plt\n",
    "import seaborn as sns\n",
    "plt.figure(figsize=(8, 6))\n",
    "sns.heatmap(confusion_matrix, annot=True, fmt='d', cmap='Blues')\n",
    "\n",
    "# Добавление подписей\n",
    "plt.xlabel('Predicted labels')\n",
    "plt.ylabel('True labels')\n",
    "plt.title('Confusion Matrix')\n",
    "plt.xticks([0.5, 1.5], ['Negative', 'Positive'])\n",
    "plt.yticks([0.5, 1.5], ['Negative', 'Positive'], rotation=0)\n",
    "\n",
    "# Показать график\n",
    "plt.show()"
   ]
  },
  {
   "cell_type": "code",
   "execution_count": 29,
   "id": "7502baf3-c03c-4079-ac56-e7c141079d87",
   "metadata": {},
   "outputs": [
    {
     "data": {
      "text/plain": [
       "0.7486631016042781"
      ]
     },
     "execution_count": 29,
     "metadata": {},
     "output_type": "execute_result"
    }
   ],
   "source": [
    "precision = TP / (TP+FP)\n",
    "precision"
   ]
  },
  {
   "cell_type": "code",
   "execution_count": 30,
   "id": "0f9741a5-dded-4233-8d63-23e3e7ff66d7",
   "metadata": {},
   "outputs": [
    {
     "data": {
      "text/plain": [
       "0.9523809523809523"
      ]
     },
     "execution_count": 30,
     "metadata": {},
     "output_type": "execute_result"
    }
   ],
   "source": [
    "recall = TP / (TP+FN)\n",
    "recall"
   ]
  },
  {
   "cell_type": "code",
   "execution_count": 31,
   "id": "4a495ff0-8496-45e8-9e5c-3f3d7110f235",
   "metadata": {},
   "outputs": [
    {
     "data": {
      "text/plain": [
       "0.08752327746741155"
      ]
     },
     "execution_count": 31,
     "metadata": {},
     "output_type": "execute_result"
    }
   ],
   "source": [
    "fpr = FP / (FP + TN)\n",
    "fpr"
   ]
  },
  {
   "cell_type": "code",
   "execution_count": 5,
   "id": "ea9cd677-2363-473b-a5e9-9ff3a8d3ec6f",
   "metadata": {},
   "outputs": [
    {
     "data": {
      "application/vnd.jupyter.widget-view+json": {
       "model_id": "5a99e4fa11624a5fb14b2980e3214227",
       "version_major": 2,
       "version_minor": 0
      },
      "text/plain": [
       "  0%|          | 0/5 [00:00<?, ?it/s]"
      ]
     },
     "metadata": {},
     "output_type": "display_data"
    }
   ],
   "source": [
    "sets = []\n",
    "for split in tqdm(range(1,6)):\n",
    "    with open(f'dataset/yolo_test_{split}.txt', 'r') as f:\n",
    "        gar = f.readlines()\n",
    "    imgs = []\n",
    "    for img in gar:\n",
    "        imgs.append(img[9:-1])\n",
    "    sets.append(set(imgs))"
   ]
  },
  {
   "cell_type": "code",
   "execution_count": 62,
   "id": "c332683e-5160-4269-b1c0-029620e78e3f",
   "metadata": {},
   "outputs": [],
   "source": [
    "checked_labels.describe().to_excel('cf_mat.xlsx')"
   ]
  },
  {
   "cell_type": "code",
   "execution_count": null,
   "id": "2da9f4ed-cdc1-4d4d-a92d-974791db5034",
   "metadata": {},
   "outputs": [],
   "source": []
  },
  {
   "cell_type": "code",
   "execution_count": 6,
   "id": "65961666-7f66-45e2-87d7-11cc23e9abce",
   "metadata": {},
   "outputs": [
    {
     "data": {
      "application/vnd.jupyter.widget-view+json": {
       "model_id": "fdf43b52c22148bf856026f6b165aafc",
       "version_major": 2,
       "version_minor": 0
      },
      "text/plain": [
       "  0%|          | 0/5 [00:00<?, ?it/s]"
      ]
     },
     "metadata": {},
     "output_type": "display_data"
    },
    {
     "data": {
      "application/vnd.jupyter.widget-view+json": {
       "model_id": "376c5bbe262e4f0f8239f2b1fe732b86",
       "version_major": 2,
       "version_minor": 0
      },
      "text/plain": [
       "  0%|          | 0/5971 [00:00<?, ?it/s]"
      ]
     },
     "metadata": {},
     "output_type": "display_data"
    },
    {
     "data": {
      "application/vnd.jupyter.widget-view+json": {
       "model_id": "1843b1c4c28d4184bbcd583de6232c02",
       "version_major": 2,
       "version_minor": 0
      },
      "text/plain": [
       "  0%|          | 0/5954 [00:00<?, ?it/s]"
      ]
     },
     "metadata": {},
     "output_type": "display_data"
    },
    {
     "data": {
      "application/vnd.jupyter.widget-view+json": {
       "model_id": "7dccfc134b1040479817c4371301e922",
       "version_major": 2,
       "version_minor": 0
      },
      "text/plain": [
       "  0%|          | 0/5956 [00:00<?, ?it/s]"
      ]
     },
     "metadata": {},
     "output_type": "display_data"
    },
    {
     "data": {
      "application/vnd.jupyter.widget-view+json": {
       "model_id": "6a07d1adb7144ede861c51985573011a",
       "version_major": 2,
       "version_minor": 0
      },
      "text/plain": [
       "  0%|          | 0/5958 [00:00<?, ?it/s]"
      ]
     },
     "metadata": {},
     "output_type": "display_data"
    },
    {
     "data": {
      "application/vnd.jupyter.widget-view+json": {
       "model_id": "a68891b9940e49cf89fba71061c951e1",
       "version_major": 2,
       "version_minor": 0
      },
      "text/plain": [
       "  0%|          | 0/5961 [00:00<?, ?it/s]"
      ]
     },
     "metadata": {},
     "output_type": "display_data"
    }
   ],
   "source": [
    "from tqdm.notebook import tqdm\n",
    "df_count = pd.DataFrame(columns=[i+1 for i in range(11)])\n",
    "for split in tqdm(range(1,6)):\n",
    "    with open(f'dataset/yolo_test_{split}.txt', 'r') as f:\n",
    "        gar = f.readlines()\n",
    "    imgs = []\n",
    "    for img in gar:\n",
    "        imgs.append(img[9:-1])\n",
    "   \n",
    "    label_count = {}\n",
    "    for i in range(11):\n",
    "        label_count[i+1] = 0\n",
    "    for img in tqdm(imgs):\n",
    "        id = images_df.query('file_name==@img')['image_id'].values[0]\n",
    "        counted = targets_df.query('image_id==@id')['label_id'].value_counts().to_dict()\n",
    "        for label in counted:\n",
    "            label_count[label] += counted[label]\n",
    "    label_count['split'] = split\n",
    "   \n",
    "    df_count.loc[len(df_count)] = label_count\n",
    "    "
   ]
  },
  {
   "cell_type": "code",
   "execution_count": 20,
   "id": "a845fbf5-23bb-4221-a529-ca2768789fdc",
   "metadata": {},
   "outputs": [],
   "source": [
    "df_count['summ'] = df_count.sum(axis=1)"
   ]
  },
  {
   "cell_type": "code",
   "execution_count": 62,
   "id": "9add7d24-2bc4-4baf-a920-18a8040317fc",
   "metadata": {},
   "outputs": [],
   "source": [
    "def mrat(series):\n",
    "    total = [38628, 38986, 39106, 39090, 38729]\n",
    "    ratios = []\n",
    "    for i, elem in enumerate(series):\n",
    "        ratios.append(elem/total[i])\n",
    "    return sum(ratios)/len(ratios)"
   ]
  },
  {
   "cell_type": "code",
   "execution_count": 12,
   "id": "5f8ee21b-d2db-43ee-a506-5e44c7e0c99b",
   "metadata": {},
   "outputs": [],
   "source": [
    "label_count = {}\n",
    "for i in range(11):\n",
    "    label_count[i+1] = 0\n",
    "for label in label_count:\n",
    "    label_count[label] = len(targets_df.query('label_id==@label'))"
   ]
  },
  {
   "cell_type": "code",
   "execution_count": 61,
   "id": "83a18e7d-3294-4f83-8090-63cc013eca34",
   "metadata": {},
   "outputs": [
    {
     "name": "stdout",
     "output_type": "stream",
     "text": [
      "5\n",
      "5\n",
      "5\n",
      "5\n",
      "5\n",
      "5\n",
      "5\n",
      "5\n",
      "5\n",
      "5\n",
      "5\n",
      "5\n"
     ]
    }
   ],
   "source": [
    "word_tbl = df_count[[2, 3, 7, 5, 11, 4, 1, 8, 6, 9, 10, 'summ']].T\n",
    "orig = sorted(list(label_count.values()), reverse=True)\n",
    "orig.append(sum(orig))\n",
    "word_tbl['orig'] = orig\n",
    "word_tbl = word_tbl[['orig', 0, 1, 2, 3, 4]]\n",
    "word_tbl['ratio'] = word_tbl['orig'].apply(lambda x: x/194539)\n",
    "word_tbl['mean_ratio'] = word_tbl[[0,1,2,3,4]].apply(lambda x: mrat(x), axis=1)"
   ]
  },
  {
   "cell_type": "code",
   "execution_count": 66,
   "id": "46e9c6d7-f516-4f48-b7db-564a868cc6be",
   "metadata": {},
   "outputs": [],
   "source": [
    "word_tbl.to_excel('ratio_tbl.xlsx')"
   ]
  },
  {
   "cell_type": "code",
   "execution_count": 31,
   "id": "4662edbb-c849-4089-9d77-1987c9566c11",
   "metadata": {},
   "outputs": [
    {
     "data": {
      "image/png": "[encoded data removed]",
      "text/plain": [
       "<Figure size 1000x600 with 1 Axes>"
      ]
     },
     "metadata": {},
     "output_type": "display_data"
    }
   ],
   "source": [
    "import matplotlib.pyplot as plt\n",
    "import numpy as np\n",
    "\n",
    "\n",
    "classes = [\n",
    "    \"car\", \"pedestrian\", \"trafficLight-Red\", \"trafficLight-Green\", \"truck\",\n",
    "    \"trafficLight\", \"biker\", \"trafficLight-RedLeft\", \"trafficLight-GreenLeft\",\n",
    "    \"trafficLight-Yellow\", \"trafficLight-YellowLeft\"\n",
    "]\n",
    "counts = sorted(list(label_count.values()), reverse=True)\n",
    "status = [\n",
    "    \"over represented\", \"under represented\", \"under represented\", \"under represented\",\n",
    "    \"under represented\", \"under represented\", \"under represented\", \"under represented\",\n",
    "    \"under represented\", \"under represented\", \"under represented\"\n",
    "]\n",
    "\n",
    "\n",
    "colors = ['#007bff', '#28a745', '#dc3545', '#ffc107', '#6c757d', '#17a08b', '#e83e8c', \n",
    "          '#ff9800', '#4caf50', '#ffc107', '#bdbdbd']\n",
    "\n",
    "\n",
    "fig, ax = plt.subplots(figsize=(10, 6))\n",
    "bars = ax.barh(classes, counts, color=colors)\n",
    "\n",
    "\n",
    "for bar in bars:\n",
    "    width = bar.get_width()\n",
    "    label_x_pos = width + 500  \n",
    "    ax.text(label_x_pos, bar.get_y() + bar.get_height()/2, f'{width:,}', va='center')\n",
    "\n",
    "\n",
    "ax.set_xlabel('Counts')\n",
    "ax.set_title('Class Balance')\n",
    "ax.invert_yaxis()  \n",
    "ax.set_yticks(np.arange(len(classes)))\n",
    "ax.set_yticklabels(classes)\n",
    "\n",
    "ax.spines['top'].set_visible(False)\n",
    "ax.spines['right'].set_visible(False)\n",
    "\n",
    "plt.show()\n"
   ]
  },
  {
   "cell_type": "code",
   "execution_count": 78,
   "id": "8577a5fa-681f-4f40-8813-a964f499028f",
   "metadata": {},
   "outputs": [
    {
     "data": {
      "application/vnd.jupyter.widget-view+json": {
       "model_id": "8fe2a36d87df4aa8930161779aff623f",
       "version_major": 2,
       "version_minor": 0
      },
      "text/plain": [
       "  0%|          | 0/5 [00:00<?, ?it/s]"
      ]
     },
     "metadata": {},
     "output_type": "display_data"
    }
   ],
   "source": [
    "with open('dataset/labels.json', 'r') as f:\n",
    "    coco_data = json.load(f)\n",
    "for split in tqdm(range(1,6)):\n",
    "    with open(f'dataset/yolo_test_{split}.txt', 'r') as f:\n",
    "        subset_files = [line.strip().replace('./images/', '').replace('.txt', '') for line in f]\n",
    "    subset_files_set = set(subset_files)\n",
    "    filtered_images = [image for image in coco_data['images'] if image['file_name'] in subset_files_set]\n",
    "    filtered_image_ids = set(image['id'] for image in filtered_images)\n",
    "    filtered_annotations = [ann for ann in coco_data['annotations'] if ann['image_id'] in filtered_image_ids]\n",
    "    new_coco_data = {\n",
    "        'images': filtered_images,\n",
    "        'annotations': filtered_annotations,\n",
    "        'categories': coco_data['categories']  \n",
    "    }\n",
    "    with open(f'dataset/labels_{split}.json', 'w') as f:\n",
    "        json.dump(new_coco_data, f, indent=4)"
   ]
  },
  {
   "cell_type": "code",
   "execution_count": 14,
   "id": "3ed1ee98-c57a-42c5-b6f1-024134a78fe6",
   "metadata": {},
   "outputs": [
    {
     "data": {
      "application/vnd.jupyter.widget-view+json": {
       "model_id": "cfeb78060fb6419c9d8ff995e6327250",
       "version_major": 2,
       "version_minor": 0
      },
      "text/plain": [
       "  0%|          | 0/5 [00:00<?, ?it/s]"
      ]
     },
     "metadata": {},
     "output_type": "display_data"
    }
   ],
   "source": [
    "imgs_check = pd.DataFrame(columns=['image_id', 'file_name', 'split'])\n",
    "for split in tqdm(range(1,6)):\n",
    "    images_df, targets_df, id2label = load_dataset(df_path, f'labels_{split}.json')\n",
    "    imgs_choice = images_df.sample(n=20, random_state=42)\n",
    "    imgs_choice['split'] = split\n",
    "    imgs_check = pd.concat([imgs_check, imgs_choice], axis='rows', ignore_index=True)"
   ]
  },
  {
   "cell_type": "code",
   "execution_count": 22,
   "id": "e2516e8c-db1b-402c-943d-a1f6cfb4c48a",
   "metadata": {},
   "outputs": [],
   "source": [
    "# imgs_check['TP'] = 0\n",
    "# imgs_check['TN'] = 0\n",
    "# imgs_check['FP'] = 0\n",
    "# imgs_check['FN'] = 0"
   ]
  },
  {
   "cell_type": "code",
   "execution_count": 301,
   "id": "90905ce6-0140-48b7-a96a-2417ca843f5b",
   "metadata": {},
   "outputs": [],
   "source": [
    "# num = 100\n",
    "# print(imgs_check.iloc[num]['file_name'])\n",
    "# imgs_check.loc[num, 'TP'] = 0\n",
    "# imgs_check.loc[num, 'TN'] = 0\n",
    "# imgs_check.loc[num, 'FP'] = 0\n",
    "# imgs_check.loc[num, 'FN'] = 0\n",
    "# imgs_check.iloc[num]"
   ]
  },
  {
   "cell_type": "code",
   "execution_count": 303,
   "id": "a02a4f00-11c6-4474-b86a-e7c3e88d490b",
   "metadata": {},
   "outputs": [],
   "source": [
    "#imgs_check.to_pickle('checked_samples.pkl')"
   ]
  },
  {
   "cell_type": "code",
   "execution_count": 3,
   "id": "af331a7f-00b9-4890-a062-9acc527701de",
   "metadata": {},
   "outputs": [],
   "source": [
    "all_pred = pd.DataFrame()\n",
    "for split in range(1,6):\n",
    "    test = pd.read_pickle(f'predictions/preds_labels_{split}.json.pkl')\n",
    "    all_pred = pd.concat([all_pred, test], axis='rows', ignore_index=True)\n",
    "all_pred.to_pickle('all_pred.pkl')"
   ]
  },
  {
   "cell_type": "code",
   "execution_count": 4,
   "id": "3b032319-b2c7-4272-b5f6-6a0193421e05",
   "metadata": {},
   "outputs": [],
   "source": [
    "df_path = Path('./dataset')\n",
    "images_df, targets_df, id2label = load_dataset(df_path)"
   ]
  },
  {
   "cell_type": "code",
   "execution_count": 8,
   "id": "62556656-717b-4936-9815-65fd50daab09",
   "metadata": {},
   "outputs": [
    {
     "data": {
      "application/vnd.jupyter.widget-view+json": {
       "model_id": "95d0ec96dc6840c393c713a2ffc23442",
       "version_major": 2,
       "version_minor": 0
      },
      "text/plain": [
       "  0%|          | 0/100 [00:00<?, ?it/s]"
      ]
     },
     "metadata": {},
     "output_type": "display_data"
    }
   ],
   "source": [
    "labels = []\n",
    "predictions = []\n",
    "for index, row in tqdm(checked_labels.iterrows(), total=len(checked_labels)):\n",
    "    img_id = row['image_id']\n",
    "    label = {\n",
    "        'bboxes': targets_df.query('image_id==@img_id')[['xmin', 'ymin', 'xmax','ymax']].to_numpy(dtype='float32'),\n",
    "        'labels': targets_df.query('image_id==@img_id')['label_id'].to_numpy(dtype='float32')-1\n",
    "            }\n",
    "    pred = []\n",
    "    preds = all_pred.query('image_id==@img_id')\n",
    "    for class_id in range(1, 12):\n",
    "        pred.append(preds.query('label_id==@class_id')[['xmin', 'ymin', 'xmax','ymax', 'score']].to_numpy(dtype='float32'))\n",
    "    #pred = np.array(pred, dtype='float32')\n",
    "    labels.append(label)\n",
    "    predictions.append(pred)"
   ]
  },
  {
   "cell_type": "code",
   "execution_count": 9,
   "id": "b03a6b8e-b2df-4a1d-a518-e25688723a89",
   "metadata": {},
   "outputs": [],
   "source": [
    "from cleanlab.object_detection.filter import find_label_issues\n",
    "from cleanlab.object_detection.rank import get_label_quality_scores"
   ]
  },
  {
   "cell_type": "code",
   "execution_count": 72,
   "id": "6f20dd87-7968-44ec-b982-7e2cbaa3a3bd",
   "metadata": {},
   "outputs": [],
   "source": [
    "# import pickle\n",
    "\n",
    "# with open('predictions.pkl', 'wb') as fp:\n",
    "#     pickle.dump(predictions, fp)\n",
    "# with open('labels.pkl', 'wb') as fp:\n",
    "#     pickle.dump(labels, fp)"
   ]
  },
  {
   "cell_type": "code",
   "execution_count": 73,
   "id": "45ef00f8-d4b5-49ea-a455-27aa15ee293d",
   "metadata": {},
   "outputs": [],
   "source": [
    "# with open('predictions.pkl', 'rb') as f:\n",
    "#     a = pickle.load(f)\n",
    "# with open('labels.pkl', 'rb') as f:\n",
    "#     b = pickle.load(f)"
   ]
  },
  {
   "cell_type": "code",
   "execution_count": 12,
   "id": "90f3e108-a265-47bb-82a1-93e8db48d7f7",
   "metadata": {},
   "outputs": [
    {
     "name": "stdout",
     "output_type": "stream",
     "text": [
      "Pruning 0 predictions out of 189 using threshold==0.0. These predictions are no longer considered as potential candidates for identifying label issues as their similarity with the given labels is no longer considered.\n"
     ]
    }
   ],
   "source": [
    "has_label_issue = find_label_issues(labels, predictions, return_indices_ranked_by_score=True)"
   ]
  },
  {
   "cell_type": "code",
   "execution_count": 15,
   "id": "0a569b75-b36b-4354-bb23-fad8456e0ec1",
   "metadata": {},
   "outputs": [
    {
     "data": {
      "text/plain": [
       "array([54,  5, 22, 62, 47, 57, 11, 83, 29, 19, 36, 12, 97, 91, 25, 38, 55,\n",
       "       74, 34], dtype=int64)"
      ]
     },
     "execution_count": 15,
     "metadata": {},
     "output_type": "execute_result"
    }
   ],
   "source": [
    "has_label_issue"
   ]
  },
  {
   "cell_type": "code",
   "execution_count": 27,
   "id": "69bfa5c1-5576-4d4f-ba1a-9b66ebb71c13",
   "metadata": {},
   "outputs": [
    {
     "data": {
      "text/plain": [
       "4"
      ]
     },
     "execution_count": 27,
     "metadata": {},
     "output_type": "execute_result"
    }
   ],
   "source": [
    "sum(checked_labels.iloc[has_label_issue]['TP']==0)"
   ]
  },
  {
   "cell_type": "code",
   "execution_count": null,
   "id": "a6f6f800-ee6d-4632-b960-69477cffb195",
   "metadata": {},
   "outputs": [],
   "source": []
  }
 ],
 "metadata": {
  "kernelspec": {
   "display_name": "Python 3 (ipykernel)",
   "language": "python",
   "name": "python3"
  },
  "language_info": {
   "codemirror_mode": {
    "name": "ipython",
    "version": 3
   },
   "file_extension": ".py",
   "mimetype": "text/x-python",
   "name": "python",
   "nbconvert_exporter": "python",
   "pygments_lexer": "ipython3",
   "version": "3.11.9"
  }
 },
 "nbformat": 4,
 "nbformat_minor": 5
}
